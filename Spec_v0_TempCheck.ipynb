{
 "cells": [
  {
   "cell_type": "markdown",
   "metadata": {},
   "source": [
    "## Import spectrometer files to see temperature"
   ]
  },
  {
   "cell_type": "code",
   "execution_count": 1,
   "metadata": {},
   "outputs": [],
   "source": [
    "# Let's load some basic packages...\n",
    "import numpy as np\n",
    "import pandas as pd\n",
    "import matplotlib.pyplot as plt\n",
    "# This makes the plots appear inside the notebook\n",
    "%matplotlib inline\n",
    "plt.rcParams['figure.figsize'] = 7, 5\n",
    "\n",
    "from PIL import Image\n",
    "\n",
    "from scipy.signal import find_peaks\n",
    "from scipy.interpolate import interp1d\n",
    "from scipy.optimize import fsolve\n",
    "from scipy.optimize import newton\n",
    "from scipy.optimize import least_squares\n",
    "from scipy.signal import lfilter\n",
    "from scipy.signal import filtfilt"
   ]
  },
  {
   "cell_type": "markdown",
   "metadata": {},
   "source": [
    "%===========================\n",
    "\n",
    "## Define basic functions"
   ]
  },
  {
   "cell_type": "code",
   "execution_count": 2,
   "metadata": {},
   "outputs": [],
   "source": [
    "# Wavelength range\n",
    "lba = np.linspace(200, 899, num=1000)*1e-9\n",
    "lbnm = lba/1e-9\n",
    "\n",
    "# Import spectrometer files\n",
    "#==============\n",
    "def impspec(filename):\n",
    "    '''Function to import regular spectrometer files'''\n",
    "    Int = pd.read_csv(filename, skiprows=[0,1,2,3,4,5,6,7,8,9,10,11,12,13], sep=\"\\t\", header=None, names=[\"lam\",\"I\"])\n",
    "    Int = Int.drop(labels=[1193,1194,1195,1196,1197,1198,1199,1200,1201,1202,1203,1204,1205,1206], axis=0) #remove hot pixels\n",
    "    # make a function of the spectrometer data\n",
    "    lam = Int['lam']\n",
    "    intensity = Int['I']\n",
    "    fxnI = interp1d(lam,intensity)\n",
    "    fxnF = fxnI(lbnm)\n",
    "    fxnF_n = fxnF/np.max(fxnF)\n",
    "    #fxnF_n = fxnF/np.average(fxnF[970::])\n",
    "    return fxnF_n\n",
    "\n",
    "# Import spectrometer files\n",
    "#==============\n",
    "def im2spec(filename):\n",
    "    '''Convert image to spectrometer files nominally between 200 and 900 nm'''\n",
    "    # Open the image file\n",
    "    im = Image.open(filename).convert(\"L\")\n",
    "    display(im)\n",
    "    # Get the pixel data in a 2D array\n",
    "    pixels = np.array(im)\n",
    "    # Sum the pixel values in each column\n",
    "    col_sums = np.sum(pixels, axis=0)\n",
    "    # Creat x-data arbitrarily set to 200 to 900nm to get in right range\n",
    "    xdat = np.linspace(200, 900, len(col_sums))\n",
    "    # make a function of the spectrometer data\n",
    "    fxnI = interp1d(xdat,col_sums)\n",
    "    fxnF = fxnI(lbnm)\n",
    "    fxnF_n = fxnF/np.max(fxnF)\n",
    "    #fxnF_n = fxnF/np.average(fxnF[970::])\n",
    "    return fxnF_n\n",
    "\n",
    "# define a normalized Planck's law fxn dependent on wavelength and temperature\n",
    "#==============\n",
    "def Plnknorm(lba,T):\n",
    "    # constants\n",
    "    h = 6.626e-34 # Planck's constant [m^2kg/s]\n",
    "    c = 3e8 # Speed of light [m/s]\n",
    "    kb = 1.381e-23 # Boltzman constant [m^2kg/s^2K]\n",
    "    #\n",
    "    Iact = 2*h*c**2 /(lba**5) * 1/(np.exp(h*c/(lba*kb*T)) - 1)\n",
    "    Inorm = Iact/np.amax(Iact)\n",
    "    return Inorm\n",
    "#==============\n",
    "\n",
    "# Use the desired cal curve calculate temps:\n",
    "#==============\n",
    "def E_est(Fxn,Gavg):\n",
    "    corr = Gavg*Fxn\n",
    "    #filter data\n",
    "    n = 10 # the larger n is, the smoother curve will be\n",
    "    b = [1.0 / n] * n\n",
    "    a = 1\n",
    "    yy = filtfilt(b,a,corr)\n",
    "    Eest = yy/np.average(yy[995::])\n",
    "    # Now do a least sqrs fit\n",
    "    def lsqrfun(Tguess):\n",
    "        return Plnknorm(lba, Tguess) - Eest\n",
    "\n",
    "    T0 = 2000 # initial temperature guess\n",
    "    rslt = least_squares(lsqrfun, T0)\n",
    "    Tst = rslt.x\n",
    "    return Eest,Tst\n",
    "#=============="
   ]
  },
  {
   "cell_type": "markdown",
   "metadata": {
    "tags": []
   },
   "source": [
    "# Bring in Temp file from spectrometer"
   ]
  },
  {
   "cell_type": "code",
   "execution_count": 3,
   "metadata": {},
   "outputs": [
    {
     "data": {
      "image/png": "[encoded data removed]",
      "text/plain": [
       "<Figure size 504x360 with 1 Axes>"
      ]
     },
     "metadata": {
      "needs_background": "light"
     },
     "output_type": "display_data"
    }
   ],
   "source": [
    "# Import spectrometer files and make normalized intensity array\n",
    "Fspec = impspec('JAZA31041_14-59-40_pwr3.txt') \n",
    "\n",
    "# Pull in 20W QHT cal Gavg data and make a fxn to use here\n",
    "#===============\n",
    "# First read the graph-grabbed data from *.csv file\n",
    "Gavg_20W = pd.read_csv(\"Gavg_20W.csv\")\n",
    "# make Gavg fxn\n",
    "lam1 = Gavg_20W['lam']\n",
    "Gavg20W = Gavg_20W['Gavg']\n",
    "Gfxn = interp1d(lam1,Gavg20W)\n",
    "G20 = Gfxn(lba)\n",
    "#===============\n",
    "\n",
    "#==============\n",
    "# Plotting the raw data\n",
    "fig, ax = plt.subplots()\n",
    "ax.plot(lbnm,Fspec,'r')\n",
    "ax.plot(lbnm,G20,'b--')\n",
    "#\n",
    "# Plot specifics\n",
    "ax.set_xlabel('$\\lambda$ [nm]')\n",
    "ax.set_ylabel('Intensity [a.u.]')\n",
    "#ax.set_yscale('log')\n",
    "ax.legend(['Spec RAW','20W QHT cal file'])\n",
    "plt.title('Raw Spectrometer Files')\n",
    "plt.show()"
   ]
  },
  {
   "cell_type": "markdown",
   "metadata": {},
   "source": [
    "# Calculate Temp based on calibration file"
   ]
  },
  {
   "cell_type": "code",
   "execution_count": 4,
   "metadata": {},
   "outputs": [
    {
     "name": "stdout",
     "output_type": "stream",
     "text": [
      "Tcalc using 20W curve =  1945.0 K\n"
     ]
    },
    {
     "data": {
      "image/png": "[encoded data removed]",
      "text/plain": [
       "<Figure size 504x360 with 1 Axes>"
      ]
     },
     "metadata": {
      "needs_background": "light"
     },
     "output_type": "display_data"
    }
   ],
   "source": [
    "# Calc T with 20W curve\n",
    "Espec, Tspec = E_est(Fspec,G20)\n",
    "Tclc = Plnknorm(lba,Tspec)\n",
    "Tlvl = Plnknorm(lba,2067) # Change to match Temp from cal sheet\n",
    "\n",
    "print(\"Tcalc using 20W curve =  %1.1f K\" % Tspec)\n",
    "\n",
    "#==============\n",
    "# Plotting the data\n",
    "fig, ax = plt.subplots()\n",
    "ax.plot(lbnm,Espec,'r')\n",
    "ax.plot(lbnm,Tclc,'b--')\n",
    "ax.plot(lbnm,Tlvl,'g-.')\n",
    "#\n",
    "# Plot specifics\n",
    "ax.set_xlabel('$\\lambda$ [nm]')\n",
    "ax.set_ylabel('Intensity [a.u.]')\n",
    "#ax.set_yscale('log')\n",
    "ax.legend(['Spec corr T','smoothed','Cal T'])\n",
    "plt.title('Corrected Temp Curve')\n",
    "plt.show()\n",
    "#=============="
   ]
  }
 ],
 "metadata": {
  "kernelspec": {
   "display_name": "Python 3 (ipykernel)",
   "language": "python",
   "name": "python3"
  },
  "language_info": {
   "codemirror_mode": {
    "name": "ipython",
    "version": 3
   },
   "file_extension": ".py",
   "mimetype": "text/x-python",
   "name": "python",
   "nbconvert_exporter": "python",
   "pygments_lexer": "ipython3",
   "version": "3.7.11"
  },
  "varInspector": {
   "cols": {
    "lenName": 16,
    "lenType": 16,
    "lenVar": 40
   },
   "kernels_config": {
    "python": {
     "delete_cmd_postfix": "",
     "delete_cmd_prefix": "del ",
     "library": "var_list.py",
     "varRefreshCmd": "print(var_dic_list())"
    },
    "r": {
     "delete_cmd_postfix": ") ",
     "delete_cmd_prefix": "rm(",
     "library": "var_list.r",
     "varRefreshCmd": "cat(var_dic_list()) "
    }
   },
   "position": {
    "height": "575.667px",
    "left": "733px",
    "right": "20px",
    "top": "61px",
    "width": "577px"
   },
   "types_to_exclude": [
    "module",
    "function",
    "builtin_function_or_method",
    "instance",
    "_Feature"
   ],
   "window_display": false
  }
 },
 "nbformat": 4,
 "nbformat_minor": 4
}
